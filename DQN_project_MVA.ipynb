{
 "cells": [
  {
   "cell_type": "markdown",
   "metadata": {},
   "source": [
    "**You may need to install [OpenCV](https://pypi.python.org/pypi/opencv-python) and [scikit-video](http://www.scikit-video.org/stable/).**"
   ]
  },
  {
   "cell_type": "code",
   "execution_count": 1,
   "metadata": {},
   "outputs": [
    {
     "name": "stderr",
     "output_type": "stream",
     "text": [
      "Using TensorFlow backend.\n"
     ]
    }
   ],
   "source": [
    "import keras\n",
    "import numpy as np\n",
    "import io\n",
    "import base64\n",
    "from IPython.display import HTML\n",
    "import skvideo.io\n",
    "import cv2\n",
    "import json\n",
    "\n",
    "from keras.models import Sequential,model_from_json\n",
    "from keras.layers.core import Dense\n",
    "from keras.optimizers import sgd, adam\n",
    "from keras.layers import Conv2D, MaxPooling2D, Activation, AveragePooling2D,Reshape,BatchNormalization, Dropout"
   ]
  },
  {
   "cell_type": "markdown",
   "metadata": {},
   "source": [
    "# MiniProject on Deep Reinforcement Learning"
   ]
  },
  {
   "cell_type": "markdown",
   "metadata": {},
   "source": [
    "__Notations__: $E_p$ is the expectation under probability $p$. Please justify each of your answer and widely comment your code."
   ]
  },
  {
   "cell_type": "markdown",
   "metadata": {},
   "source": [
    "# Context"
   ]
  },
  {
   "cell_type": "markdown",
   "metadata": {},
   "source": [
    "In a reinforcement learning algorithm, we modelize each step $t$ as an action $a_t$ obtained from a state $s_t$, i.e. $\\{(a_{t},s_{t})_{t\\leq T}\\}$ having the Markov property. We consider a discount factor $\\gamma \\in [0,1]$ that ensures convergence. The goal is to find among all the policies $\\pi$, one that maximizes the expected reward:\n",
    "\n",
    "\\begin{equation*}\n",
    "R(\\pi)=\\sum_{t\\leq T}E_{p^{\\pi}}[\\gamma^t r(s_{t},a_{t})] \\> ,\n",
    "\\end{equation*}\n",
    "\n",
    "where: \n",
    "\\begin{equation*}p^{\\pi}(a_{0},a_{1},s_{1},...,a_{T},s_{T})=p(a_{0})\\prod_{t=1}^{T}\\pi(a_{t}|s_{t})p(s_{t+1}|s_{t},a_{t}) \\> .\n",
    "\\end{equation*}\n",
    "\n",
    "We note the $Q$-function:\n",
    "\n",
    "\\begin{equation*}Q^\\pi(s,a)=E_{p^{\\pi}}[\\sum_{t\\leq T}\\gamma^{t}r(s_{t},a_{t})|s_{0}=s,a_{0}=a] \\> .\n",
    "\\end{equation*}\n",
    "\n",
    "Thus, the optimal Q function is:\n",
    "\\begin{equation*}\n",
    "Q^*(s,a)=\\max_{\\pi}Q^\\pi(s,a) \\> .\n",
    "\\end{equation*}\n",
    "\n",
    "In this project, we will apply the deep reinforcement learning techniques to a simple game: an agent will have to learn from scratch a policy that will permit it maximizing a reward."
   ]
  },
  {
   "cell_type": "markdown",
   "metadata": {},
   "source": [
    "## The environment, the agent and the game"
   ]
  },
  {
   "cell_type": "markdown",
   "metadata": {},
   "source": [
    "### The environment"
   ]
  },
  {
   "cell_type": "markdown",
   "metadata": {},
   "source": [
    "```Environment``` is an abstract class that represents the states, rewards, and actions to obtain the new state."
   ]
  },
  {
   "cell_type": "code",
   "execution_count": 2,
   "metadata": {},
   "outputs": [],
   "source": [
    "class Environment(object):\n",
    "    def __init__(self):\n",
    "        pass\n",
    "\n",
    "    def act(self, act):\n",
    "        \"\"\"\n",
    "        One can act on the environment and obtain its reaction:\n",
    "        - the new state\n",
    "        - the reward of the new state\n",
    "        - should we continue the game?\n",
    "\n",
    "        :return: state, reward, game_over\n",
    "        \"\"\"\n",
    "        pass\n",
    "\n",
    "\n",
    "    def reset(self):\n",
    "        \"\"\"\n",
    "        Reinitialize the environment to a random state and returns\n",
    "        the original state\n",
    "\n",
    "        :return: state\n",
    "        \"\"\"\n",
    "        pass\n",
    "    \n",
    "    def draw(self):\n",
    "        \"\"\"\n",
    "        Visualize in the console or graphically the current state\n",
    "        \"\"\"\n",
    "        pass"
   ]
  },
  {
   "cell_type": "markdown",
   "metadata": {},
   "source": [
    "The method ```act``` allows to act on the environment at a given state $s_t$ (stored internally), via action $a_t$. The method will return the new state $s_{t+1}$, the reward $r(s_{t},a_{t})$ and determines if $t\\leq T$ (*game_over*).\n",
    "\n",
    "The method ```reset``` simply reinitializes the environment to a random state $s_0$.\n",
    "\n",
    "The method ```draw``` displays the current state $s_t$ (this is useful to check the behavior of the Agent).\n",
    "\n",
    "We modelize $s_t$ as a tensor, while $a_t$ is an integer."
   ]
  },
  {
   "cell_type": "markdown",
   "metadata": {},
   "source": [
    "### The Agent"
   ]
  },
  {
   "cell_type": "markdown",
   "metadata": {},
   "source": [
    "The goal of the ```Agent``` is to interact with the ```Environment``` by proposing actions $a_t$ obtained from a given state $s_t$ to attempt to maximize its __reward__ $r(s_t,a_t)$. We propose the following abstract class:"
   ]
  },
  {
   "cell_type": "code",
   "execution_count": 3,
   "metadata": {},
   "outputs": [],
   "source": [
    "class Agent(object):\n",
    "    def __init__(self, epsilon=0.1, n_action=4):\n",
    "        self.epsilon = epsilon\n",
    "        self.n_action = n_action\n",
    "    \n",
    "    def set_epsilon(self,e):\n",
    "        self.epsilon = e\n",
    "\n",
    "    def act(self,s,train=True):\n",
    "        \"\"\" This function should return the next action to do:\n",
    "        an integer between 0 and 4 (not included) with a random exploration of epsilon\"\"\"\n",
    "        if train:\n",
    "            if np.random.rand() <= self.epsilon:\n",
    "                a = np.random.randint(0, self.n_action, size=1)[0]\n",
    "            else:\n",
    "                a = self.learned_act(s)\n",
    "        else: # in some cases, this can improve the performance.. remove it if poor performances\n",
    "            a = self.learned_act(s)\n",
    "\n",
    "        return a\n",
    "\n",
    "    def learned_act(self,s):\n",
    "        \"\"\" Act via the policy of the agent, from a given state s\n",
    "        it proposes an action a\"\"\"\n",
    "        pass\n",
    "\n",
    "    def reinforce(self, s, n_s, a, r, game_over_):\n",
    "        \"\"\" This function is the core of the learning algorithm. \n",
    "        It takes as an input the current state s_, the next state n_s_\n",
    "        the action a_ used to move from s_ to n_s_ and the reward r_.\n",
    "        \n",
    "        Its goal is to learn a policy.\n",
    "        \"\"\"\n",
    "        pass\n",
    "\n",
    "    def save(self):\n",
    "        \"\"\" This function returns basic stats if applicable: the\n",
    "        loss and/or the model\"\"\"\n",
    "        pass\n",
    "\n",
    "    def load(self):\n",
    "        \"\"\" This function allows to restore a model\"\"\"\n",
    "        pass"
   ]
  },
  {
   "cell_type": "markdown",
   "metadata": {},
   "source": [
    "***\n",
    "__Question 1__:\n",
    "Explain the function act. Why is ```epsilon``` essential?\n",
    "\n",
    "The function act returns an action in function of the state the agent is in. The epsilon is here to sometimes select randomly an action to perform independently of the state. Its goal is to explore to get some more knowledge about which actions do what, to be able to learn better actions to perform. "
   ]
  },
  {
   "cell_type": "markdown",
   "metadata": {},
   "source": [
    "***\n",
    "### The Game"
   ]
  },
  {
   "cell_type": "markdown",
   "metadata": {},
   "source": [
    "The ```Agent``` and the ```Environment``` work in an interlaced way as in the following (take some time to understand this code as it is the core of the project)\n",
    "\n",
    "```python\n",
    "\n",
    "epoch = 300\n",
    "env = Environment()\n",
    "agent = Agent()\n",
    "\n",
    "\n",
    "# Number of won games\n",
    "score = 0\n",
    "loss = 0\n",
    "\n",
    "\n",
    "for e in range(epoch):\n",
    "    # At each epoch, we restart to a fresh game and get the initial state\n",
    "    state = env.reset()\n",
    "    # This assumes that the games will end\n",
    "    game_over = False\n",
    "\n",
    "    win = 0\n",
    "    lose = 0\n",
    "    \n",
    "    while not game_over:\n",
    "        # The agent performs an action\n",
    "        action = agent.act(state)\n",
    "\n",
    "        # Apply an action to the environment, get the next state, the reward\n",
    "        # and if the games end\n",
    "        prev_state = state\n",
    "        state, reward, game_over = env.act(action)\n",
    "\n",
    "        # Update the counters\n",
    "        if reward > 0:\n",
    "            win = win + reward\n",
    "        if reward < 0:\n",
    "            lose = lose -reward\n",
    "\n",
    "        # Apply the reinforcement strategy\n",
    "        loss = agent.reinforce(prev_state, state,  action, reward, game_over)\n",
    "\n",
    "    # Save as a mp4\n",
    "    if e % 10 == 0:\n",
    "        env.draw(e)\n",
    "\n",
    "    # Update stats\n",
    "    score += win-lose\n",
    "\n",
    "    print(\"Epoch {:03d}/{:03d} | Loss {:.4f} | Win/lose count {}/{} ({})\"\n",
    "          .format(e, epoch, loss, win, lose, win-lose))\n",
    "    agent.save()\n",
    "```"
   ]
  },
  {
   "cell_type": "markdown",
   "metadata": {},
   "source": [
    "# The game, *eat cheese*"
   ]
  },
  {
   "cell_type": "markdown",
   "metadata": {},
   "source": [
    "A rat runs on an island and tries to eat as much as possible. The island is subdivided into $N\\times N$ cells, in which there are cheese (+0.5) and poisonous cells (-1). The rat has a visibility of 2 cells (thus it can see $5^2$ cells). The rat is given a time $T$ to accumulate as much food as possible. It can perform 4 actions: going up, down, left, right. \n",
    "\n",
    "The goal is to code an agent to solve this task that will learn by trial and error. We propose the following environment:"
   ]
  },
  {
   "cell_type": "code",
   "execution_count": 4,
   "metadata": {},
   "outputs": [],
   "source": [
    "class Environment(object):\n",
    "    def __init__(self, grid_size=10, max_time=500, temperature=0.1):\n",
    "        grid_size = grid_size+4\n",
    "        self.grid_size = grid_size\n",
    "        self.max_time = max_time\n",
    "        self.temperature = temperature\n",
    "\n",
    "        #board on which one plays\n",
    "        self.board = np.zeros((grid_size,grid_size))\n",
    "        self.position = np.zeros((grid_size,grid_size))\n",
    "\n",
    "        # coordinate of the cat\n",
    "        self.x = 0\n",
    "        self.y = 1\n",
    "\n",
    "        # self time\n",
    "        self.t = 0\n",
    "\n",
    "        self.scale=16\n",
    "\n",
    "        self.to_draw = np.zeros((max_time+2, grid_size*self.scale, grid_size*self.scale, 3))\n",
    "\n",
    "\n",
    "    def draw(self,e):\n",
    "        skvideo.io.vwrite(str(e) + '.mp4', self.to_draw, outputdict={\"-pix_fmt\":\"yuv420p\"})\n",
    "\n",
    "    def get_frame(self,t):\n",
    "        b = np.zeros((self.grid_size,self.grid_size,3))+128\n",
    "        b[self.board>0,0] = 256\n",
    "        b[self.board < 0, 2] = 256\n",
    "        b[self.x,self.y,:]=256\n",
    "        b[-2:,:,:]=0\n",
    "        b[:,-2:,:]=0\n",
    "        b[:2,:,:]=0\n",
    "        b[:,:2,:]=0\n",
    "        \n",
    "        b =  cv2.resize(b, None, fx=self.scale, fy=self.scale, interpolation=cv2.INTER_NEAREST)\n",
    "\n",
    "        self.to_draw[t,:,:,:]=b\n",
    "\n",
    "\n",
    "    def act(self, action):\n",
    "        \"\"\"This function returns the new state, reward and decides if the\n",
    "        game ends.\"\"\"\n",
    "\n",
    "        self.get_frame(int(self.t))\n",
    "\n",
    "        self.position = np.zeros((self.grid_size, self.grid_size))\n",
    "\n",
    "        self.position[0:2,:]= -1\n",
    "        self.position[:,0:2] = -1\n",
    "        self.position[-2:, :] = -1\n",
    "        self.position[-2:, :] = -1\n",
    "\n",
    "        self.position[self.x, self.y] = 1\n",
    "        if action == 0:\n",
    "            if self.x == self.grid_size-3:\n",
    "                self.x = self.x-1\n",
    "            else:\n",
    "                self.x = self.x + 1\n",
    "        elif action == 1:\n",
    "            if self.x == 2:\n",
    "                self.x = self.x+1\n",
    "            else:\n",
    "                self.x = self.x-1\n",
    "        elif action == 2:\n",
    "            if self.y == self.grid_size - 3:\n",
    "                self.y = self.y - 1\n",
    "            else:\n",
    "                self.y = self.y + 1\n",
    "        elif action == 3:\n",
    "            if self.y == 2:\n",
    "                self.y = self.y + 1\n",
    "            else:\n",
    "                self.y = self.y - 1\n",
    "        else:\n",
    "            RuntimeError('Error: action not recognized')\n",
    "\n",
    "        self.t = self.t + 1\n",
    "        reward = self.board[self.x, self.y]\n",
    "        self.board[self.x, self.y] = 0\n",
    "        game_over = self.t > self.max_time\n",
    "        state = np.concatenate((self.board.reshape(self.grid_size, self.grid_size,1),\n",
    "                        self.position.reshape(self.grid_size, self.grid_size,1)),axis=2)\n",
    "        state = state[self.x-2:self.x+3,self.y-2:self.y+3,:]\n",
    "\n",
    "        return state, reward, game_over\n",
    "\n",
    "    def reset(self):\n",
    "        \"\"\"This function resets the game and returns the initial state\"\"\"\n",
    "\n",
    "        self.x = np.random.randint(3, self.grid_size-3, size=1)[0]\n",
    "        self.y = np.random.randint(3, self.grid_size-3, size=1)[0]\n",
    "\n",
    "\n",
    "        bonus = 0.5*np.random.binomial(1,self.temperature,size=self.grid_size**2)\n",
    "        bonus = bonus.reshape(self.grid_size,self.grid_size)\n",
    "\n",
    "        malus = -1.0*np.random.binomial(1,self.temperature,size=self.grid_size**2)\n",
    "        malus = malus.reshape(self.grid_size, self.grid_size)\n",
    "\n",
    "        self.to_draw = np.zeros((self.max_time+2, self.grid_size*self.scale, self.grid_size*self.scale, 3))\n",
    "\n",
    "\n",
    "        malus[bonus>0]=0\n",
    "\n",
    "        self.board = bonus + malus\n",
    "\n",
    "        self.position = np.zeros((self.grid_size, self.grid_size))\n",
    "        self.position[0:2,:]= -1\n",
    "        self.position[:,0:2] = -1\n",
    "        self.position[-2:, :] = -1\n",
    "        self.position[-2:, :] = -1\n",
    "        self.board[self.x,self.y] = 0\n",
    "        self.t = 0\n",
    "\n",
    "        state = np.concatenate((\n",
    "                               self.board.reshape(self.grid_size, self.grid_size,1),\n",
    "                        self.position.reshape(self.grid_size, self.grid_size,1)),axis=2)\n",
    "\n",
    "        state = state[self.x - 2:self.x + 3, self.y - 2:self.y + 3, :]\n",
    "        return state"
   ]
  },
  {
   "cell_type": "markdown",
   "metadata": {},
   "source": [
    "The following elements are important because they correspond to the hyper parameters for this project:"
   ]
  },
  {
   "cell_type": "code",
   "execution_count": 5,
   "metadata": {},
   "outputs": [],
   "source": [
    "# parameters\n",
    "size = 13\n",
    "T=200\n",
    "temperature=0.3\n",
    "epochs_train=200 # set small when debugging\n",
    "epochs_test=5 # set small when debugging\n",
    "\n",
    "# display videos\n",
    "def display_videos(name):\n",
    "    video = io.open(name, 'r+b').read()\n",
    "    encoded = base64.b64encode(video)\n",
    "    return '''<video alt=\"test\" controls>\n",
    "                <source src=\"data:video/mp4;base64,{0}\" type=\"video/mp4\" />\n",
    "             </video>'''.format(encoded.decode('ascii'))"
   ]
  },
  {
   "cell_type": "markdown",
   "metadata": {},
   "source": [
    "__Question 2__ Explain the use of the arrays ```position``` and ```board```.\n",
    "\n",
    "Position is used to position the player in the grid, the current state would have the position vector (array of size grid_sizexgrid_size transformed in vector of shape grid_size²x1) which corresponds to the position of the player before the move. Board contains has the shape grid_sizexgrid_size and contains the bonus (cheese) and the malus (poison). It contains only 0 except on cells with bonus or malus, which are positive or negative. Once the a bonus - or a malus - is taken the cell has the value 0 on board. There's a padding for the position of 2, filled with -1"
   ]
  },
  {
   "cell_type": "markdown",
   "metadata": {},
   "source": [
    "## Random Agent"
   ]
  },
  {
   "cell_type": "markdown",
   "metadata": {},
   "source": [
    "***\n",
    "__Question 3__ Implement a random Agent (only ```learned_act``` needs to be implemented):"
   ]
  },
  {
   "cell_type": "code",
   "execution_count": 6,
   "metadata": {},
   "outputs": [],
   "source": [
    "class RandomAgent(Agent):\n",
    "    def __init__(self):\n",
    "        super(RandomAgent, self).__init__()\n",
    "        pass\n",
    "\n",
    "    def learned_act(self, s):\n",
    "        return np.random.randint(4)\n",
    "        "
   ]
  },
  {
   "cell_type": "markdown",
   "metadata": {},
   "source": [
    "***\n",
    "***\n",
    "__Question 4__ Visualize the game moves. You need to fill in the following function for the evaluation:"
   ]
  },
  {
   "cell_type": "code",
   "execution_count": 7,
   "metadata": {},
   "outputs": [],
   "source": [
    "def test(agent,env,epochs,prefix=''):\n",
    "    # Number of won games\n",
    "    score = 0\n",
    "    #loss = 0\n",
    "    for e in range(epochs):\n",
    "        state = env.reset()\n",
    "        win = 0\n",
    "        lose = 0\n",
    "        game_over = False\n",
    "        while not game_over:\n",
    "            # The agent performs an action\n",
    "            action = agent.act(state)\n",
    "\n",
    "            # Apply an action to the environment, get the next state, the reward\n",
    "            # and if the games end\n",
    "            prev_state = state\n",
    "            state, reward, game_over = env.act(action)\n",
    "\n",
    "            # Update the counters\n",
    "            if reward > 0:\n",
    "                win = win + reward\n",
    "            if reward < 0:\n",
    "                lose = lose - reward\n",
    "    \n",
    "        # Save as a mp4\n",
    "        env.draw(prefix+str(e))\n",
    "\n",
    "        # Update stats\n",
    "        score = score + win-lose\n",
    "\n",
    "        print(\"Win/lose count {}/{}. Average score ({})\"\n",
    "              .format(win, lose, score/(1+e)))\n",
    "    print('Final score: '+str(score/epochs))"
   ]
  },
  {
   "cell_type": "code",
   "execution_count": 8,
   "metadata": {},
   "outputs": [
    {
     "name": "stdout",
     "output_type": "stream",
     "text": [
      "Win/lose count 11.0/12.0. Average score (-1.0)\n",
      "Win/lose count 7.0/20.0. Average score (-7.0)\n",
      "Win/lose count 10.0/12.0. Average score (-5.333333333333333)\n",
      "Win/lose count 10.5/14.0. Average score (-4.875)\n",
      "Win/lose count 8.5/12.0. Average score (-4.6)\n",
      "Final score: -4.6\n"
     ]
    },
    {
     "data": {
      "text/html": [
       "<video alt=\"test\" controls>\n",
       "                <source src=\"data:video/mp4;base64,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\" type=\"video/mp4\" />\n",
       "             </video>"
      ],
      "text/plain": [
       "<IPython.core.display.HTML object>"
      ]
     },
     "execution_count": 8,
     "metadata": {},
     "output_type": "execute_result"
    }
   ],
   "source": [
    "# Initialize the game\n",
    "env = Environment(grid_size=size, max_time=T,temperature=temperature)\n",
    "\n",
    "# Initialize the agent!\n",
    "agent = RandomAgent()\n",
    "\n",
    "test(agent,env,epochs_test,prefix='random')\n",
    "HTML(display_videos('random0.mp4'))"
   ]
  },
  {
   "cell_type": "markdown",
   "metadata": {},
   "source": [
    "***\n",
    "## DQN"
   ]
  },
  {
   "cell_type": "markdown",
   "metadata": {},
   "source": [
    "Let us assume here that $T=\\infty$.\n",
    "\n",
    "***\n",
    "__Question 5__ Let $\\pi$ be a policy, show that:\n",
    "\n",
    "\\begin{equation*}\n",
    "Q^{\\pi}(s,a)=E_{(s',a')\\sim p(.|s,a)}[r(s,a)+\\gamma Q^{\\pi}(s',a')]\n",
    "\\end{equation*}\n",
    "\n",
    "Then, show that for the optimal policy $\\pi^*$ (we assume its existence), the following holds: \n",
    "\n",
    "\\begin{equation*}\n",
    "Q^{*}(s,a)=E_{s'\\sim \\pi^*(.|s,a)}[r(s,a)+\\gamma\\max_{a'}Q^{*}(s',a')].\n",
    "\\end{equation*}\n",
    "Finally, deduce that a plausible objective is:\n",
    "\n",
    "\\begin{equation*}\n",
    "\\mathcal{L}(\\theta)=E_{s' \\sim \\pi^*(.|s,a)}\\Vert r+\\gamma\\max_{a'}Q(s',a',\\theta)-Q(s,a,\\theta)\\Vert^{2}.\n",
    "\\end{equation*}\n",
    "\n",
    "\n"
   ]
  },
  {
   "cell_type": "markdown",
   "metadata": {},
   "source": [
    "\n",
    "1. We have :\n",
    "\\begin{equation*}\n",
    "Q^\\pi(s,a)=E_{p^{\\pi}}[\\sum_{t=0}^{\\infty}\\gamma^{t}r(s_{t},a_{t})|s_{0}=s,a_{0}=a].\\\\\n",
    "Q^\\pi(s,a)=E_{p^{\\pi}}[r(s, a) + \\gamma\\sum_{t=0}^{\\infty}\\gamma^{t}r(s_{t+1},a_{t+1})|s_{0}=s,a_{0}=a].\\\\\n",
    "Q^\\pi(s,a)=r(s, a) + \\gamma E_{s'\\sim \\pi^*(.|s,a)}[\\sum_{t=0}^{\\infty}\\gamma^{t}r(s_{t+1},a_{t+1})|s_{1}=s',a_{1}=a'].\\\\\n",
    "Q^\\pi(s,a)=r(s, a) + \\gamma E_{s'\\sim \\pi^*(.|s,a)}[Q^{\\pi}(s',a')].\n",
    "\\end{equation*}\n",
    "We deduce:\n",
    "\\begin{equation*}\n",
    "Q^{\\pi}(s,a)=E_{(s',a')\\sim p(.|s,a)}[r(s,a)+\\gamma Q^{\\pi}(s',a')].\n",
    "\\end{equation*}\n",
    "\n",
    "\n",
    "2. For all $a'$ which doesn't satisfy $\\max_{a'}Q(s',a') = Q(s',a')$  we have :\n",
    "\n",
    "\\begin{equation*}\n",
    "\\max_{a'}Q(s',a') > Q(s',a')\\\\\n",
    "E_{(s',a')\\sim p(.|s,a)}[r(s,a)+\\gamma \\max_{a'}Q(s',a')] > E_{(s',a')\\sim p(.|s,a)}[r(s,a)+\\gamma Q(s',a')]\\\\\n",
    "\\end{equation*}\n",
    "So if according to a certain policy $\\pi$ we take such $a'$ as an action, then $\\pi$ isn't optimal. Hence we have: \n",
    "\\begin{equation*}\n",
    "Q^{*}(s,a)=E_{s'\\sim \\pi^*(.|s,a)}[r(s,a)+\\gamma\\max_{a'}Q^{*}(s',a')].\n",
    "\\end{equation*}\n",
    "\n",
    "3. Since we have :\n",
    "\n",
    "\\begin{equation*}\n",
    "Q^{*}(s,a)=E_{s'\\sim \\pi^*(.|s,a)}[r(s,a)+\\gamma\\max_{a'}Q^{*}(s',a')]\\\\\n",
    "E_{s'\\sim \\pi^*(.|s,a)}[r(s,a)+\\gamma\\max_{a'}Q^{*}(s',a')] - Q^{*}(s,a) = 0\\\\\n",
    "E_{s'\\sim \\pi^*(.|s,a)}[r(s,a)+\\gamma\\max_{a'}Q^{*}(s',a')- Q^{*}(s,a)] = 0\n",
    "\\end{equation*}\n",
    "\n",
    "We conclude that for a network $Q(s,a,\\theta)$ which we want to be equal to $Q^*(s,a)$, a necesary condition is to have:\n",
    "\n",
    "\\begin{equation*}\n",
    "E_{s' \\sim \\pi^*(.|s,a)}[r+\\gamma\\max_{a'}Q(s',a',\\theta)-Q(s,a,\\theta)] = 0 \\text{ (1)}\n",
    "\\end{equation*}\n",
    "\n",
    "And since $E[X]^2 \\leq E[X^2]$ (Jensen inequality), if $Q(s,a,\\theta)$ statisfies :\n",
    "\n",
    "\\begin{equation*}\n",
    "E_{s' \\sim \\pi^*(.|s,a)}\\Vert r+\\gamma\\max_{a'}Q(s',a',\\theta)-Q(s,a,\\theta)\\Vert^{2} = 0\n",
    "\\end{equation*}\n",
    "\n",
    "Then it would satisfy (1).\n",
    "\n",
    "So we could take as a loss for that network :\n",
    "\n",
    "\\begin{equation*}\n",
    "\\mathcal{L}(\\theta)=E_{s' \\sim \\pi^*(.|s,a)}\\Vert r+\\gamma\\max_{a'}Q(s',a',\\theta)-Q(s,a,\\theta)\\Vert^{2}.\n",
    "\\end{equation*}"
   ]
  },
  {
   "cell_type": "markdown",
   "metadata": {},
   "source": [
    "***\n",
    "The DQN-learning algorithm relies on these derivations to train the parameters $\\theta$ of a Deep Neural Network:\n",
    "\n",
    "1. At the state $s_t$, select the action $a_t$ with best reward using $Q_t$ and store the results;\n",
    "\n",
    "2. Obtain the new state $s_{t+1}$ from the environment $p$;\n",
    "\n",
    "3. Store $(s_t,a_t,s_{t+1})$;\n",
    "\n",
    "4. Obtain $Q_{t+1}$ by minimizing  $\\mathcal{L}$ from a recovered batch from the previously stored results.\n",
    "\n",
    "***\n",
    "__Question 6__ Implement the class ```Memory``` that stores moves (in a replay buffer) via ```remember``` and provides a ```random_access``` to these. Specify a maximum memory size to avoid side effects. You can for example use a ```list()``` and set by default ```max_memory=100```."
   ]
  },
  {
   "cell_type": "code",
   "execution_count": 9,
   "metadata": {},
   "outputs": [],
   "source": [
    "class Memory(object):\n",
    "    def __init__(self, max_memory=100):\n",
    "        self.max_memory = max_memory\n",
    "        self.memory = list()\n",
    "\n",
    "    def remember(self, m):\n",
    "        if len(self.memory) < self.max_memory: # if the memory isn't full\n",
    "            self.memory.append(m)\n",
    "        else: # if it's full replace one of the sequence\n",
    "            self.memory[np.random.randint(0, len(self.memory))] = m \n",
    "\n",
    "    def random_access(self):\n",
    "        return self.memory[np.random.randint(0, len(self.memory))] # pick randomly one of the sequences"
   ]
  },
  {
   "cell_type": "markdown",
   "metadata": {},
   "source": [
    "***\n",
    "The pipeline we will use for training is given below:"
   ]
  },
  {
   "cell_type": "code",
   "execution_count": 10,
   "metadata": {},
   "outputs": [],
   "source": [
    "def train(agent,env,epoch,prefix=''):\n",
    "    # Number of won games\n",
    "    score = 0\n",
    "    loss = 0\n",
    "\n",
    "    for e in range(epoch):\n",
    "        # At each epoch, we restart to a fresh game and get the initial state\n",
    "        state = env.reset()\n",
    "        # This assumes that the games will terminate\n",
    "        game_over = False\n",
    "\n",
    "        win = 0\n",
    "        lose = 0\n",
    "\n",
    "        while not game_over:\n",
    "            # The agent performs an action\n",
    "            action = agent.act(state)\n",
    "\n",
    "            # Apply an action to the environment, get the next state, the reward\n",
    "            # and if the games end\n",
    "            prev_state = state\n",
    "            state, reward, game_over = env.act(action)\n",
    "\n",
    "            # Update the counters\n",
    "            if reward > 0:\n",
    "                win = win + reward\n",
    "            if reward < 0:\n",
    "                lose = lose -reward\n",
    "\n",
    "            # Apply the reinforcement strategy\n",
    "            loss = agent.reinforce(prev_state, state,  action, reward, game_over)\n",
    "\n",
    "        # Save as a mp4\n",
    "        if e % 10 == 0:\n",
    "            env.draw(prefix+str(e))\n",
    "\n",
    "        # Update stats\n",
    "        score += win-lose\n",
    "\n",
    "        print(\"Epoch {:03d}/{:03d} | Loss {:.4f} | Win/lose count {}/{} ({})\"\n",
    "              .format(e, epoch, loss, win, lose, win-lose))\n",
    "        agent.save(name_weights=prefix+'model.h5',name_model=prefix+'model.json')"
   ]
  },
  {
   "cell_type": "markdown",
   "metadata": {},
   "source": [
    "***\n",
    "__Question 7__ Implement the DQN training algorithm using a cascade of fully connected layers. You can use different learning rate, batch size or memory size parameters. In particular, the loss might oscillate while the player will start to win the games. You have to find a good criterium."
   ]
  },
  {
   "cell_type": "code",
   "execution_count": 11,
   "metadata": {},
   "outputs": [],
   "source": [
    "class DQN(Agent):\n",
    "    def __init__(self, grid_size,  epsilon = 0.1, memory_size=100, batch_size = 16,n_state=2):\n",
    "        super(DQN, self).__init__(epsilon = epsilon)\n",
    "\n",
    "        # Discount for Q learning\n",
    "        self.discount = 0.99\n",
    "        \n",
    "        self.grid_size = grid_size\n",
    "        \n",
    "        # number of state\n",
    "        self.n_state = n_state\n",
    "\n",
    "        # Memory\n",
    "        self.memory = Memory(memory_size)\n",
    "        \n",
    "        # Batch size when learning\n",
    "        self.batch_size = batch_size\n",
    "\n",
    "    def learned_act(self, s):\n",
    "        return np.argmax(self.model.predict(np.expand_dims(s, axis=0))[0])\n",
    "\n",
    "    def reinforce(self, s_, n_s_, a_, r_, game_over_):\n",
    "        # Two steps: first memorize the states, second learn from the pool\n",
    "\n",
    "        self.memory.remember([s_, n_s_, a_, r_, game_over_])\n",
    "        \n",
    "        input_states = np.zeros((self.batch_size, 5, 5, self.n_state))\n",
    "        target_q = np.zeros((self.batch_size, 4))\n",
    "        \n",
    "        for i in range(self.batch_size):\n",
    "            s_, n_s_, a_, r_, game_over_ = self.memory.random_access() # take one of the sequences\n",
    "            input_states[i] = s_ # add the state as input\n",
    "            target_a = self.model.predict(np.expand_dims(n_s_, axis=0))[0] # compute Q(n_s, a) for each a\n",
    "            value = self.model.predict(np.expand_dims(s_, axis=0))[0] # compute Q(s, a) for each a\n",
    "            target_q[i] = np.array(value) # fill the target as Q(s, a) for each a\n",
    "            best_a = np.argmax(target_a) # take the best action for Q(n_s, a)\n",
    "            # replace the Q(s, a) only for the action that has been taken\n",
    "            # to make the other differences equal to 0, which would make the loss be equal to the formula above\n",
    "            if game_over_: \n",
    "                target_q[i, a_] = r_ # if the game is over we earn only r \n",
    "            else:\n",
    "                target_q[i, a_] = r_ + self.discount*target_a[best_a] # otherwise we earn r and the discounted future gain\n",
    "                ######## FILL IN\n",
    "        ######## FILL IN\n",
    "        # HINT: Clip the target to avoid exploiding gradients.. -- clipping is a bit tighter\n",
    "        \n",
    "        target_q = np.clip(target_q, -3, 3)\n",
    "\n",
    "        l = self.model.train_on_batch(input_states, target_q)\n",
    "\n",
    "\n",
    "        return l\n",
    "\n",
    "    def save(self,name_weights='model.h5',name_model='model.json'):\n",
    "        self.model.save_weights(name_weights, overwrite=True)\n",
    "        with open(name_model, \"w\") as outfile:\n",
    "            json.dump(self.model.to_json(), outfile)\n",
    "            \n",
    "    def load(self,name_weights='model.h5',name_model='model.json'):\n",
    "        with open(name_model, \"r\") as jfile:\n",
    "            model = model_from_json(json.load(jfile))\n",
    "        model.load_weights(name_weights)\n",
    "        model.compile(\"sgd\", \"mse\")\n",
    "        self.model = model\n",
    "\n",
    "            \n",
    "class DQN_FC(DQN):\n",
    "    def __init__(self, *args, lr=0.1,**kwargs):\n",
    "        super(DQN_FC, self).__init__( *args,**kwargs)\n",
    "        model = Sequential()\n",
    "        model.add(Reshape((25*self.n_state,)))\n",
    "        model.add(Dense(80, activation='tanh'))\n",
    "        model.add(Dense(20, activation='tanh'))\n",
    "        model.add(Dense(4))\n",
    "        # NN Model\n",
    "        \n",
    "        ####### FILL IN\n",
    "        \n",
    "        model.compile(sgd(lr=lr, decay=1e-4, momentum=0.0), \"mse\")\n",
    "        self.model = model\n",
    "        "
   ]
  },
  {
   "cell_type": "code",
   "execution_count": 12,
   "metadata": {
    "scrolled": false
   },
   "outputs": [
    {
     "name": "stdout",
     "output_type": "stream",
     "text": [
      "WARNING:tensorflow:From C:\\Users\\Ryad\\Anaconda3\\lib\\site-packages\\keras\\backend\\tensorflow_backend.py:74: The name tf.get_default_graph is deprecated. Please use tf.compat.v1.get_default_graph instead.\n",
      "\n",
      "WARNING:tensorflow:From C:\\Users\\Ryad\\Anaconda3\\lib\\site-packages\\keras\\optimizers.py:790: The name tf.train.Optimizer is deprecated. Please use tf.compat.v1.train.Optimizer instead.\n",
      "\n",
      "WARNING:tensorflow:From C:\\Users\\Ryad\\Anaconda3\\lib\\site-packages\\keras\\backend\\tensorflow_backend.py:517: The name tf.placeholder is deprecated. Please use tf.compat.v1.placeholder instead.\n",
      "\n",
      "WARNING:tensorflow:From C:\\Users\\Ryad\\Anaconda3\\lib\\site-packages\\keras\\backend\\tensorflow_backend.py:4138: The name tf.random_uniform is deprecated. Please use tf.random.uniform instead.\n",
      "\n",
      "WARNING:tensorflow:From C:\\Users\\Ryad\\Anaconda3\\lib\\site-packages\\keras\\backend\\tensorflow_backend.py:2741: The name tf.Session is deprecated. Please use tf.compat.v1.Session instead.\n",
      "\n",
      "WARNING:tensorflow:From C:\\Users\\Ryad\\Anaconda3\\lib\\site-packages\\keras\\backend\\tensorflow_backend.py:174: The name tf.get_default_session is deprecated. Please use tf.compat.v1.get_default_session instead.\n",
      "\n",
      "Epoch 000/021 | Loss 0.0054 | Win/lose count 2.5/2.0 (0.5)\n",
      "Epoch 001/021 | Loss 0.0131 | Win/lose count 5.5/6.0 (-0.5)\n",
      "Epoch 002/021 | Loss 0.0305 | Win/lose count 6.5/7.0 (-0.5)\n",
      "Epoch 003/021 | Loss 0.0039 | Win/lose count 5.5/4.0 (1.5)\n",
      "Epoch 004/021 | Loss 0.0036 | Win/lose count 2.0/5.0 (-3.0)\n",
      "Epoch 005/021 | Loss 0.0088 | Win/lose count 4.5/2.0 (2.5)\n",
      "Epoch 006/021 | Loss 0.0072 | Win/lose count 4.5/2.0 (2.5)\n",
      "Epoch 007/021 | Loss 0.0056 | Win/lose count 4.5/2.0 (2.5)\n",
      "Epoch 008/021 | Loss 0.0038 | Win/lose count 4.0/1.0 (3.0)\n",
      "Epoch 009/021 | Loss 0.0037 | Win/lose count 10.0/2.0 (8.0)\n",
      "Epoch 010/021 | Loss 0.0028 | Win/lose count 12.0/2.0 (10.0)\n",
      "Epoch 011/021 | Loss 0.0040 | Win/lose count 4.0/0 (4.0)\n",
      "Epoch 012/021 | Loss 0.0056 | Win/lose count 4.0/4.0 (0.0)\n",
      "Epoch 013/021 | Loss 0.0030 | Win/lose count 11.5/3.0 (8.5)\n",
      "Epoch 014/021 | Loss 0.0492 | Win/lose count 13.5/2.0 (11.5)\n",
      "Epoch 015/021 | Loss 0.0054 | Win/lose count 11.5/4.0 (7.5)\n",
      "Epoch 016/021 | Loss 0.0025 | Win/lose count 17.0/1.0 (16.0)\n",
      "Epoch 017/021 | Loss 0.0036 | Win/lose count 7.0/3.0 (4.0)\n",
      "Epoch 018/021 | Loss 0.0628 | Win/lose count 6.0/1.0 (5.0)\n",
      "Epoch 019/021 | Loss 0.0030 | Win/lose count 16.5/2.0 (14.5)\n",
      "Epoch 020/021 | Loss 0.0036 | Win/lose count 6.5/1.0 (5.5)\n"
     ]
    },
    {
     "data": {
      "text/html": [
       "<video alt=\"test\" controls>\n",
       "                <source src=\"data:video/mp4;base64,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\" type=\"video/mp4\" />\n",
       "             </video>"
      ],
      "text/plain": [
       "<IPython.core.display.HTML object>"
      ]
     },
     "execution_count": 12,
     "metadata": {},
     "output_type": "execute_result"
    }
   ],
   "source": [
    "env = Environment(grid_size=size, max_time=T, temperature=0.3)\n",
    "epochs_train = 21\n",
    "agent = DQN_FC(size, lr=0.1, epsilon = 0.1, memory_size=2000, batch_size = 32)\n",
    "train(agent, env, epochs_train, prefix='fc_train')\n",
    "HTML(display_videos('fc_train20.mp4'))"
   ]
  },
  {
   "cell_type": "markdown",
   "metadata": {},
   "source": [
    "The default learning rate batch size and memory size happened to be the best one to choose. A good criterium to stop the learning phase is when the algorithm score doesn't improve which corresponds to the situation where the loss starts oscillating (which is around 20 epochs)."
   ]
  },
  {
   "cell_type": "markdown",
   "metadata": {},
   "source": [
    "***\n",
    "***\n",
    "__Question 8__ Implement the DQN training algorithm using a CNN (for example, 2 convolutional layers and one final fully connected layer)."
   ]
  },
  {
   "cell_type": "code",
   "execution_count": 13,
   "metadata": {},
   "outputs": [],
   "source": [
    "class DQN_CNN(DQN):\n",
    "    def __init__(self, *args,lr=0.1,**kwargs):\n",
    "        super(DQN_CNN, self).__init__(*args,**kwargs)\n",
    "        model = Sequential()\n",
    "        model.add(Conv2D(80, (2, 2), activation='relu'))\n",
    "        model.add(Conv2D(20, (2, 2), activation='relu'))\n",
    "        model.add(keras.layers.Flatten())\n",
    "        model.add(Dense(4))\n",
    "        ###### FILL IN\n",
    "        \n",
    "        model.compile(adam(lr=lr, decay=1e-4), \"mse\")\n",
    "        self.model = model"
   ]
  },
  {
   "cell_type": "code",
   "execution_count": 14,
   "metadata": {},
   "outputs": [
    {
     "name": "stdout",
     "output_type": "stream",
     "text": [
      "Epoch 000/021 | Loss 0.0465 | Win/lose count 5.0/5.0 (0.0)\n",
      "Epoch 001/021 | Loss 0.0602 | Win/lose count 7.5/2.0 (5.5)\n",
      "Epoch 002/021 | Loss 0.0014 | Win/lose count 9.0/0 (9.0)\n",
      "Epoch 003/021 | Loss 0.0062 | Win/lose count 7.5/4.0 (3.5)\n",
      "Epoch 004/021 | Loss 0.0035 | Win/lose count 12.5/7.0 (5.5)\n",
      "Epoch 005/021 | Loss 0.0012 | Win/lose count 3.0/2.0 (1.0)\n",
      "Epoch 006/021 | Loss 0.0043 | Win/lose count 7.5/7.0 (0.5)\n",
      "Epoch 007/021 | Loss 0.0027 | Win/lose count 11.5/2.0 (9.5)\n",
      "Epoch 008/021 | Loss 0.0033 | Win/lose count 5.5/3.0 (2.5)\n",
      "Epoch 009/021 | Loss 0.0016 | Win/lose count 3.5/2.0 (1.5)\n",
      "Epoch 010/021 | Loss 0.0018 | Win/lose count 6.5/4.0 (2.5)\n",
      "Epoch 011/021 | Loss 0.0032 | Win/lose count 9.0/3.0 (6.0)\n",
      "Epoch 012/021 | Loss 0.0035 | Win/lose count 4.0/4.0 (0.0)\n",
      "Epoch 013/021 | Loss 0.0561 | Win/lose count 10.0/1.0 (9.0)\n",
      "Epoch 014/021 | Loss 0.0066 | Win/lose count 5.5/0 (5.5)\n",
      "Epoch 015/021 | Loss 0.0261 | Win/lose count 13.0/4.0 (9.0)\n",
      "Epoch 016/021 | Loss 0.0022 | Win/lose count 5.5/3.0 (2.5)\n",
      "Epoch 017/021 | Loss 0.0032 | Win/lose count 12.0/2.0 (10.0)\n",
      "Epoch 018/021 | Loss 0.0007 | Win/lose count 11.5/6.0 (5.5)\n",
      "Epoch 019/021 | Loss 0.0029 | Win/lose count 10.5/3.0 (7.5)\n",
      "Epoch 020/021 | Loss 0.0041 | Win/lose count 10.5/4.0 (6.5)\n"
     ]
    },
    {
     "data": {
      "text/html": [
       "<video alt=\"test\" controls>\n",
       "                <source src=\"data:video/mp4;base64,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\" type=\"video/mp4\" />\n",
       "             </video>"
      ],
      "text/plain": [
       "<IPython.core.display.HTML object>"
      ]
     },
     "execution_count": 14,
     "metadata": {},
     "output_type": "execute_result"
    }
   ],
   "source": [
    "env = Environment(grid_size=size, max_time=T, temperature=0.3)\n",
    "agent = DQN_CNN(size, lr=0.01, epsilon = 0.1, memory_size=2000, batch_size = 32)\n",
    "epochs_train = 21\n",
    "train(agent,env,epochs_train,prefix='cnn_train')\n",
    "HTML(display_videos('cnn_train20.mp4'))"
   ]
  },
  {
   "cell_type": "markdown",
   "metadata": {},
   "source": [
    "***\n",
    "***\n",
    "__Question 9__ Test both algorithms and compare their performances. Which issue(s) do you observe? Observe also different behaviors by changing the temperature."
   ]
  },
  {
   "cell_type": "code",
   "execution_count": 15,
   "metadata": {},
   "outputs": [
    {
     "name": "stdout",
     "output_type": "stream",
     "text": [
      "Test of the CNN\n",
      "Win/lose count 8.0/2.0. Average score (6.0)\n",
      "Win/lose count 5.0/1.0. Average score (5.0)\n",
      "Win/lose count 7.0/3.0. Average score (4.666666666666667)\n",
      "Win/lose count 6.0/1.0. Average score (4.75)\n",
      "Win/lose count 3.0/2.0. Average score (4.0)\n",
      "Win/lose count 11.5/0. Average score (5.25)\n",
      "Win/lose count 5.5/3.0. Average score (4.857142857142857)\n",
      "Win/lose count 6.0/3.0. Average score (4.625)\n",
      "Win/lose count 5.0/0. Average score (4.666666666666667)\n",
      "Win/lose count 8.5/2.0. Average score (4.85)\n",
      "Win/lose count 7.5/3.0. Average score (4.818181818181818)\n",
      "Final score: 4.818181818181818\n",
      "Test of the FC\n",
      "Win/lose count 4.0/10.0. Average score (-6.0)\n",
      "Win/lose count 2.0/1.0. Average score (-2.5)\n",
      "Win/lose count 4.5/4.0. Average score (-1.5)\n",
      "Win/lose count 4.0/5.0. Average score (-1.375)\n",
      "Win/lose count 3.0/8.0. Average score (-2.1)\n",
      "Win/lose count 6.0/4.0. Average score (-1.4166666666666667)\n",
      "Win/lose count 2.5/1.0. Average score (-1.0)\n",
      "Win/lose count 7.5/4.0. Average score (-0.4375)\n",
      "Win/lose count 2.5/5.0. Average score (-0.6666666666666666)\n",
      "Win/lose count 6.5/13.0. Average score (-1.25)\n",
      "Win/lose count 2.0/7.0. Average score (-1.5909090909090908)\n",
      "Final score: -1.5909090909090908\n"
     ]
    }
   ],
   "source": [
    "env = Environment(grid_size=size, max_time=T,temperature=0.3)\n",
    "agent_cnn = DQN_CNN(size, lr=.1, epsilon = 0.1, memory_size=2000, batch_size = 32)\n",
    "agent_cnn.load(name_weights='cnn_trainmodel.h5',name_model='cnn_trainmodel.json')\n",
    "\n",
    "agent_fc = DQN_FC(size, lr=.1, epsilon = 0.1, memory_size=2000, batch_size = 32)\n",
    "agent_cnn.load(name_weights='fc_trainmodel.h5',name_model='fc_trainmodel.json')\n",
    "print('Test of the CNN')\n",
    "epochs_test = 11\n",
    "test(agent_cnn,env,epochs_test, prefix='cnn_test')\n",
    "print('Test of the FC')\n",
    "test(agent_fc,env,epochs_test, prefix='fc_test')"
   ]
  },
  {
   "cell_type": "code",
   "execution_count": 16,
   "metadata": {},
   "outputs": [
    {
     "data": {
      "text/html": [
       "<video alt=\"test\" controls>\n",
       "                <source src=\"data:video/mp4;base64,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\" type=\"video/mp4\" />\n",
       "             </video>"
      ],
      "text/plain": [
       "<IPython.core.display.HTML object>"
      ]
     },
     "execution_count": 16,
     "metadata": {},
     "output_type": "execute_result"
    }
   ],
   "source": [
    "HTML(display_videos('cnn_test10.mp4'))"
   ]
  },
  {
   "cell_type": "code",
   "execution_count": 17,
   "metadata": {},
   "outputs": [
    {
     "data": {
      "text/html": [
       "<video alt=\"test\" controls>\n",
       "                <source src=\"data:video/mp4;base64,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\" type=\"video/mp4\" />\n",
       "             </video>"
      ],
      "text/plain": [
       "<IPython.core.display.HTML object>"
      ]
     },
     "execution_count": 17,
     "metadata": {},
     "output_type": "execute_result"
    }
   ],
   "source": [
    "HTML(display_videos('fc_test10.mp4'))"
   ]
  },
  {
   "cell_type": "markdown",
   "metadata": {},
   "source": [
    "We can notice that the CNN works way better than the FCN. The biggest issue we can observe is that the algorithm get at some point stuck in a loop. Another problem is that the algorithm sometimes doesn't take the decision to take a bonus which is in his view range. Increasing the temperature increases the scores in general, which means that the algorithm understood that it has to take the bonuses over the maluses."
   ]
  },
  {
   "cell_type": "markdown",
   "metadata": {},
   "source": [
    "***\n",
    "\n",
    "The algorithm tends to not explore the map which can be an issue. We propose two ideas in order to encourage exploration:\n",
    "1. Incorporating a decreasing $\\epsilon$-greedy exploration. You can use the method ```set_epsilon```\n",
    "2. Append via the environment a new state that describes if a cell has been visited or not\n",
    "\n",
    "***\n",
    "__Question 10__ Design a new ```train_explore``` function and environment class ```EnvironmentExploring``` to tackle the issue of exploration.\n",
    "\n"
   ]
  },
  {
   "cell_type": "code",
   "execution_count": 18,
   "metadata": {},
   "outputs": [],
   "source": [
    "def train_explore(agent,env,epoch,prefix=''):\n",
    "    # Number of won games\n",
    "    score = 0\n",
    "    loss = 0\n",
    "\n",
    "    for e in range(epoch):\n",
    "        # At each epoch, we restart to a fresh game and get the initial state\n",
    "        state = env.reset()\n",
    "        # This assumes that the games will terminate\n",
    "        game_over = False\n",
    "\n",
    "        win = 0\n",
    "        lose = 0\n",
    "\n",
    "        while not game_over:\n",
    "            # The agent performs an action\n",
    "            action = agent.act(state)\n",
    "\n",
    "            # Apply an action to the environment, get the next state, the reward\n",
    "            # and if the games end\n",
    "            prev_state = state\n",
    "            #In train explore:\n",
    "            state, reward, game_over = env.act(action, train=True)\n",
    "\n",
    "            # Update the counters\n",
    "            if reward > 0:\n",
    "                win = win + reward\n",
    "            if reward < 0:\n",
    "                lose = lose -reward\n",
    "\n",
    "            # Apply the reinforcement strategy\n",
    "            loss = agent.reinforce(prev_state, state,  action, reward, game_over)\n",
    "\n",
    "        # Save as a mp4\n",
    "        if e % 10 == 0:\n",
    "            env.draw(prefix+str(e))\n",
    "\n",
    "        # Update stats\n",
    "        score += win-lose\n",
    "\n",
    "        print(\"Epoch {:03d}/{:03d} | Loss {:.4f} | Win/lose count {}/{} ({})\"\n",
    "              .format(e, epoch, loss, win, lose, win-lose))\n",
    "        agent.save(name_weights=prefix+'model.h5',name_model=prefix+'model.json')\n",
    "\n"
   ]
  },
  {
   "cell_type": "code",
   "execution_count": 19,
   "metadata": {},
   "outputs": [],
   "source": [
    "class EnvironmentExploring(object):\n",
    "    def __init__(self, grid_size=10, max_time=500, temperature=0.1):\n",
    "        grid_size = grid_size+4\n",
    "        self.grid_size = grid_size\n",
    "        self.max_time = max_time\n",
    "        self.temperature = temperature\n",
    "\n",
    "        #board on which one plays\n",
    "        self.board = np.zeros((grid_size,grid_size))\n",
    "        self.position = np.zeros((grid_size,grid_size))\n",
    "\n",
    "        # coordinate of the cat\n",
    "        self.x = 0\n",
    "        self.y = 1\n",
    "\n",
    "        # self time\n",
    "        self.t = 0\n",
    "\n",
    "        self.scale=16\n",
    "\n",
    "        self.to_draw = np.zeros((max_time+2, grid_size*self.scale, grid_size*self.scale, 3))\n",
    "\n",
    "\n",
    "    def draw(self,e):\n",
    "        skvideo.io.vwrite(str(e) + '.mp4', self.to_draw, outputdict={\"-pix_fmt\":\"yuv420p\"})\n",
    "\n",
    "    def get_frame(self,t):\n",
    "        b = np.zeros((self.grid_size,self.grid_size,3))+128\n",
    "        b[self.board>0,0] = 256\n",
    "        b[self.board < 0, 2] = 256\n",
    "        b[self.x,self.y,:]=256\n",
    "        b[-2:,:,:]=0\n",
    "        b[:,-2:,:]=0\n",
    "        b[:2,:,:]=0\n",
    "        b[:,:2,:]=0\n",
    "        \n",
    "        b =  cv2.resize(b, None, fx=self.scale, fy=self.scale, interpolation=cv2.INTER_NEAREST)\n",
    "\n",
    "        self.to_draw[t,:,:,:]=b\n",
    "\n",
    "\n",
    "    def act(self, action, train=False):\n",
    "        \"\"\"This function returns the new state, reward and decides if the\n",
    "        game ends.\"\"\"\n",
    "\n",
    "        self.get_frame(int(self.t))\n",
    "\n",
    "        self.position = np.zeros((self.grid_size, self.grid_size))\n",
    "\n",
    "        self.position[0:2,:]= -1\n",
    "        self.position[:,0:2] = -1\n",
    "        self.position[-2:, :] = -1\n",
    "        self.position[-2:, :] = -1\n",
    "\n",
    "        self.position[self.x, self.y] = 1\n",
    "        if action == 0:\n",
    "            if self.x == self.grid_size-3:\n",
    "                self.x = self.x-1\n",
    "            else:\n",
    "                self.x = self.x + 1\n",
    "        elif action == 1:\n",
    "            if self.x == 2:\n",
    "                self.x = self.x+1\n",
    "            else:\n",
    "                self.x = self.x-1\n",
    "        elif action == 2:\n",
    "            if self.y == self.grid_size - 3:\n",
    "                self.y = self.y - 1\n",
    "            else:\n",
    "                self.y = self.y + 1\n",
    "        elif action == 3:\n",
    "            if self.y == 2:\n",
    "                self.y = self.y + 1\n",
    "            else:\n",
    "                self.y = self.y - 1\n",
    "        else:\n",
    "            RuntimeError('Error: action not recognized')\n",
    "        \n",
    "        \n",
    "        \n",
    "\n",
    "        \n",
    "        self.t = self.t + 1\n",
    " \n",
    "\n",
    "        \n",
    "        ## In Environment exploring:\n",
    "        # You will have to change n_state to 3 because you will use one more layer!\n",
    "        reward = 0\n",
    "        if train:\n",
    "            reward = -self.malus_position[self.x, self.y]\n",
    "        self.malus_position[self.x, self.y] = 0.1\n",
    "\n",
    "        reward = reward + self.board[self.x, self.y]\n",
    "        self.board[self.x, self.y] = 0\n",
    "        game_over = self.t > self.max_time\n",
    "        # 3 \"feature\" states instead of 2\n",
    "        state = np.concatenate((self.malus_position.reshape(self.grid_size, self.grid_size,1),\n",
    "                                        self.board.reshape(self.grid_size, self.grid_size,1),\n",
    "                                self.position.reshape(self.grid_size, self.grid_size,1)),axis=2)\n",
    "        state = state[self.x-2:self.x+3,self.y-2:self.y+3,:]\n",
    "\n",
    "        return state, reward, game_over\n",
    "\n",
    "    def reset(self):\n",
    "        \"\"\"This function resets the game and returns the initial state\"\"\"\n",
    "\n",
    "        self.x = np.random.randint(3, self.grid_size-3, size=1)[0]\n",
    "        self.y = np.random.randint(3, self.grid_size-3, size=1)[0]\n",
    "        \n",
    "        bonus = 0.5*np.random.binomial(1,self.temperature,size=self.grid_size**2)\n",
    "        bonus = bonus.reshape(self.grid_size,self.grid_size)\n",
    "\n",
    "        malus = -1.0*np.random.binomial(1,self.temperature,size=self.grid_size**2)\n",
    "        malus = malus.reshape(self.grid_size, self.grid_size)\n",
    "\n",
    "        self.to_draw = np.zeros((self.max_time+2, self.grid_size*self.scale, self.grid_size*self.scale, 3))\n",
    "\n",
    "\n",
    "        malus[bonus>0]=0\n",
    "\n",
    "        self.board = bonus + malus\n",
    "\n",
    "        self.position = np.zeros((self.grid_size, self.grid_size))\n",
    "        self.position[0:2,:]= -1\n",
    "        self.position[:,0:2] = -1\n",
    "        self.position[-2:, :] = -1\n",
    "        self.position[-2:, :] = -1\n",
    "        self.board[self.x,self.y] = 0\n",
    "        self.t = 0\n",
    "\n",
    "        self.malus_position  = np.copy(self.position)\n",
    "        \n",
    "        state = np.concatenate((self.malus_position.reshape(self.grid_size, self.grid_size,1),\n",
    "                               self.board.reshape(self.grid_size, self.grid_size,1),\n",
    "                        self.position.reshape(self.grid_size, self.grid_size,1)),\n",
    "                        axis=2)\n",
    "\n",
    "        state = state[self.x - 2:self.x + 3, self.y - 2:self.y + 3, :]\n",
    "        return state"
   ]
  },
  {
   "cell_type": "code",
   "execution_count": 20,
   "metadata": {},
   "outputs": [
    {
     "name": "stdout",
     "output_type": "stream",
     "text": [
      "Epoch 000/021 | Loss 0.0384 | Win/lose count 6.5/25.60000000000008 (-19.10000000000008)\n",
      "Epoch 001/021 | Loss 0.0081 | Win/lose count 6.0/19.700000000000014 (-13.700000000000014)\n",
      "Epoch 002/021 | Loss 0.0077 | Win/lose count 10.5/19.100000000000016 (-8.600000000000016)\n",
      "Epoch 003/021 | Loss 0.0415 | Win/lose count 8.5/18.199999999999996 (-9.699999999999996)\n",
      "Epoch 004/021 | Loss 0.0110 | Win/lose count 6.5/19.700000000000017 (-13.200000000000017)\n",
      "Epoch 005/021 | Loss 0.0063 | Win/lose count 14.5/16.899999999999974 (-2.3999999999999737)\n",
      "Epoch 006/021 | Loss 0.0068 | Win/lose count 15.5/22.299999999999986 (-6.7999999999999865)\n",
      "Epoch 007/021 | Loss 0.0060 | Win/lose count 13.5/13.899999999999968 (-0.3999999999999684)\n",
      "Epoch 008/021 | Loss 0.0103 | Win/lose count 20.5/14.299999999999965 (6.200000000000035)\n",
      "Epoch 009/021 | Loss 0.0335 | Win/lose count 20.0/14.69999999999997 (5.300000000000029)\n",
      "Epoch 010/021 | Loss 0.0229 | Win/lose count 14.0/19.300000000000015 (-5.300000000000015)\n",
      "Epoch 011/021 | Loss 0.0068 | Win/lose count 21.5/12.399999999999975 (9.100000000000025)\n",
      "Epoch 012/021 | Loss 0.0049 | Win/lose count 20.5/16.299999999999972 (4.200000000000028)\n",
      "Epoch 013/021 | Loss 0.0062 | Win/lose count 15.0/18.999999999999996 (-3.9999999999999964)\n",
      "Epoch 014/021 | Loss 0.0074 | Win/lose count 18.0/14.199999999999969 (3.800000000000031)\n",
      "Epoch 015/021 | Loss 0.0076 | Win/lose count 17.5/13.999999999999968 (3.500000000000032)\n",
      "Epoch 016/021 | Loss 0.0086 | Win/lose count 18.0/19.699999999999978 (-1.699999999999978)\n",
      "Epoch 017/021 | Loss 0.0058 | Win/lose count 15.5/16.899999999999977 (-1.3999999999999773)\n",
      "Epoch 018/021 | Loss 0.0112 | Win/lose count 23.0/13.899999999999977 (9.100000000000023)\n",
      "Epoch 019/021 | Loss 0.0059 | Win/lose count 15.5/13.199999999999974 (2.3000000000000256)\n",
      "Epoch 020/021 | Loss 0.0057 | Win/lose count 17.0/17.999999999999982 (-0.9999999999999822)\n"
     ]
    },
    {
     "data": {
      "text/html": [
       "<video alt=\"test\" controls>\n",
       "                <source src=\"data:video/mp4;base64,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\" type=\"video/mp4\" />\n",
       "             </video>"
      ],
      "text/plain": [
       "<IPython.core.display.HTML object>"
      ]
     },
     "execution_count": 20,
     "metadata": {},
     "output_type": "execute_result"
    }
   ],
   "source": [
    "# Training\n",
    "env = EnvironmentExploring(grid_size=size, max_time=T, temperature=0.3)\n",
    "agent = DQN_CNN(size, lr=.01, epsilon = 0.1, memory_size=2000, batch_size = 32,n_state=3)\n",
    "train_explore(agent, env, epochs_train, prefix='cnn_train_explore')\n",
    "HTML(display_videos('cnn_train_explore20.mp4'))"
   ]
  },
  {
   "cell_type": "code",
   "execution_count": 21,
   "metadata": {},
   "outputs": [
    {
     "name": "stdout",
     "output_type": "stream",
     "text": [
      "Win/lose count 5.5/2.0. Average score (3.5)\n",
      "Win/lose count 13.0/2.0. Average score (7.25)\n",
      "Win/lose count 8.0/3.0. Average score (6.5)\n",
      "Win/lose count 14.5/3.0. Average score (7.75)\n",
      "Win/lose count 9.0/4.0. Average score (7.2)\n",
      "Win/lose count 19.5/4.0. Average score (8.583333333333334)\n",
      "Win/lose count 10.5/6.0. Average score (8.0)\n",
      "Win/lose count 15.5/3.0. Average score (8.5625)\n",
      "Win/lose count 19.5/2.0. Average score (9.555555555555555)\n",
      "Win/lose count 6.5/2.0. Average score (9.05)\n",
      "Win/lose count 14.5/3.0. Average score (9.272727272727273)\n",
      "Final score: 9.272727272727273\n"
     ]
    },
    {
     "data": {
      "text/html": [
       "<video alt=\"test\" controls>\n",
       "                <source src=\"data:video/mp4;base64,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\" type=\"video/mp4\" />\n",
       "             </video>"
      ],
      "text/plain": [
       "<IPython.core.display.HTML object>"
      ]
     },
     "execution_count": 21,
     "metadata": {},
     "output_type": "execute_result"
    }
   ],
   "source": [
    "# Evaluation\n",
    "test(agent,env,epochs_test,prefix='cnn_test_explore')\n",
    "HTML(display_videos('cnn_test_explore10.mp4'))"
   ]
  },
  {
   "cell_type": "markdown",
   "metadata": {},
   "source": [
    "***\n",
    "***\n",
    "__BONUS question__ Use the expert DQN from the previous question to generate some winning games. Train a model that mimicks its behavior. Compare the performances."
   ]
  },
  {
   "cell_type": "code",
   "execution_count": 22,
   "metadata": {},
   "outputs": [],
   "source": [
    "def train_with_expert(agent, expert_agent, env, epoch, prefix=''):\n",
    "    # Number of won games\n",
    "    score = 0\n",
    "    loss = 0\n",
    "\n",
    "    for e in range(epoch):\n",
    "        # At each epoch, we restart to a fresh game and get the initial state\n",
    "        state = env.reset()\n",
    "        # This assumes that the games will terminate\n",
    "        game_over = False\n",
    "\n",
    "        win = 0\n",
    "        lose = 0\n",
    "\n",
    "        while not game_over:\n",
    "            # The expert agent performs an action perform the action now\n",
    "            action = expert_agent.act(state)\n",
    "\n",
    "            # Apply an action to the environment, get the next state, the reward\n",
    "            # and if the games end\n",
    "            prev_state = state\n",
    "            #In train explore:\n",
    "            state, reward, game_over = env.act(action, train=True)\n",
    "\n",
    "            # Update the counters\n",
    "            if reward > 0:\n",
    "                win = win + reward\n",
    "            if reward < 0:\n",
    "                lose = lose -reward\n",
    "\n",
    "            # Apply the reinforcement strategy\n",
    "            loss = agent.reinforce(prev_state, state,  action, reward, game_over)\n",
    "\n",
    "        # Save as a mp4\n",
    "        if e % 10 == 0:\n",
    "            env.draw(prefix+str(e))\n",
    "\n",
    "        # Update stats\n",
    "        score += win-lose\n",
    "\n",
    "        print(\"Epoch {:03d}/{:03d} | Loss {:.4f} | Win/lose count {}/{} ({})\"\n",
    "              .format(e, epoch, loss, win, lose, win-lose))\n",
    "        agent.save(name_weights=prefix+'model.h5',name_model=prefix+'model.json')\n",
    "\n"
   ]
  },
  {
   "cell_type": "code",
   "execution_count": 23,
   "metadata": {},
   "outputs": [
    {
     "name": "stdout",
     "output_type": "stream",
     "text": [
      "Epoch 000/021 | Loss 0.0035 | Win/lose count 8.0/19.700000000000003 (-11.700000000000003)\n",
      "Epoch 001/021 | Loss 0.0072 | Win/lose count 13.0/18.69999999999998 (-5.6999999999999815)\n",
      "Epoch 002/021 | Loss 0.0015 | Win/lose count 14.0/17.599999999999973 (-3.599999999999973)\n",
      "Epoch 003/021 | Loss 0.0058 | Win/lose count 19.0/12.799999999999978 (6.200000000000022)\n",
      "Epoch 004/021 | Loss 0.0052 | Win/lose count 18.0/15.099999999999971 (2.9000000000000288)\n",
      "Epoch 005/021 | Loss 0.0070 | Win/lose count 18.0/16.399999999999977 (1.6000000000000227)\n",
      "Epoch 006/021 | Loss 0.0058 | Win/lose count 11.5/15.399999999999965 (-3.899999999999965)\n",
      "Epoch 007/021 | Loss 0.0038 | Win/lose count 16.0/17.89999999999999 (-1.8999999999999915)\n",
      "Epoch 008/021 | Loss 0.0038 | Win/lose count 5.0/18.699999999999996 (-13.699999999999996)\n",
      "Epoch 009/021 | Loss 0.0073 | Win/lose count 14.0/17.199999999999985 (-3.199999999999985)\n",
      "Epoch 010/021 | Loss 0.0083 | Win/lose count 17.5/16.79999999999998 (0.7000000000000206)\n",
      "Epoch 011/021 | Loss 0.0073 | Win/lose count 14.5/15.199999999999966 (-0.6999999999999655)\n",
      "Epoch 012/021 | Loss 0.0090 | Win/lose count 8.0/17.499999999999982 (-9.499999999999982)\n",
      "Epoch 013/021 | Loss 0.0024 | Win/lose count 16.0/18.399999999999988 (-2.399999999999988)\n",
      "Epoch 014/021 | Loss 0.0027 | Win/lose count 23.0/16.199999999999974 (6.800000000000026)\n",
      "Epoch 015/021 | Loss 0.0066 | Win/lose count 16.0/17.99999999999998 (-1.9999999999999787)\n",
      "Epoch 016/021 | Loss 0.0032 | Win/lose count 11.0/20.300000000000026 (-9.300000000000026)\n",
      "Epoch 017/021 | Loss 0.0038 | Win/lose count 10.5/16.99999999999998 (-6.499999999999979)\n",
      "Epoch 018/021 | Loss 0.0059 | Win/lose count 9.5/16.199999999999964 (-6.699999999999964)\n",
      "Epoch 019/021 | Loss 0.0151 | Win/lose count 19.5/16.29999999999997 (3.2000000000000313)\n",
      "Epoch 020/021 | Loss 0.0042 | Win/lose count 10.5/19.800000000000008 (-9.300000000000008)\n"
     ]
    },
    {
     "data": {
      "text/html": [
       "<video alt=\"test\" controls>\n",
       "                <source src=\"data:video/mp4;base64,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\" type=\"video/mp4\" />\n",
       "             </video>"
      ],
      "text/plain": [
       "<IPython.core.display.HTML object>"
      ]
     },
     "execution_count": 23,
     "metadata": {},
     "output_type": "execute_result"
    }
   ],
   "source": [
    "env = EnvironmentExploring(grid_size=size, max_time=T, temperature=0.3)\n",
    "expert_agent = agent\n",
    "learner_agent = DQN_CNN(size, lr=.01, epsilon=0.1, memory_size=2000, batch_size=32, n_state=3)\n",
    "train_with_expert(learner_agent, expert_agent, env, 21, prefix='cnn_train_explore')\n",
    "HTML(display_videos('cnn_train_explore20.mp4'))"
   ]
  },
  {
   "cell_type": "code",
   "execution_count": 24,
   "metadata": {
    "scrolled": false
   },
   "outputs": [
    {
     "name": "stdout",
     "output_type": "stream",
     "text": [
      "Win/lose count 8.5/1.0. Average score (7.5)\n",
      "Win/lose count 13.0/4.0. Average score (8.25)\n",
      "Win/lose count 11.5/2.0. Average score (8.666666666666666)\n",
      "Win/lose count 19.5/2.0. Average score (10.875)\n",
      "Win/lose count 12.5/2.0. Average score (10.8)\n",
      "Win/lose count 12.5/5.0. Average score (10.25)\n",
      "Win/lose count 12.0/8.0. Average score (9.357142857142858)\n",
      "Win/lose count 13.0/4.0. Average score (9.3125)\n",
      "Win/lose count 12.0/6.0. Average score (8.944444444444445)\n",
      "Win/lose count 16.5/4.0. Average score (9.3)\n",
      "Win/lose count 16.5/4.0. Average score (9.590909090909092)\n",
      "Final score: 9.590909090909092\n"
     ]
    },
    {
     "data": {
      "text/html": [
       "<video alt=\"test\" controls>\n",
       "                <source src=\"data:video/mp4;base64,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\" type=\"video/mp4\" />\n",
       "             </video>"
      ],
      "text/plain": [
       "<IPython.core.display.HTML object>"
      ]
     },
     "execution_count": 24,
     "metadata": {},
     "output_type": "execute_result"
    }
   ],
   "source": [
    "test(learner_agent,env,epochs_test,prefix='cnn_test_expert')\n",
    "HTML(display_videos('cnn_test_expert10.mp4'))"
   ]
  },
  {
   "cell_type": "markdown",
   "metadata": {},
   "source": [
    "The model that mimicks the behavior has equivalent performances than the one starting from zero (which takes its own \"best actions\" to explore the map.)"
   ]
  },
  {
   "cell_type": "markdown",
   "metadata": {},
   "source": [
    "***"
   ]
  }
 ],
 "metadata": {
  "kernelspec": {
   "display_name": "Python 3",
   "language": "python",
   "name": "python3"
  },
  "language_info": {
   "codemirror_mode": {
    "name": "ipython",
    "version": 3
   },
   "file_extension": ".py",
   "mimetype": "text/x-python",
   "name": "python",
   "nbconvert_exporter": "python",
   "pygments_lexer": "ipython3",
   "version": "3.7.3"
  }
 },
 "nbformat": 4,
 "nbformat_minor": 2
}
